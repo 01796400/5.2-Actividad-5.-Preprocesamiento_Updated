{
 "cells": [
  {
   "cell_type": "markdown",
   "id": "4fd21b81",
   "metadata": {},
   "source": [
    "# MAESTRÍA EN INTELIGENCIA ARTIFICIAL APLICADA\n",
    "## Curso: TC4029 - Ciencia y analítica de datos\n",
    "Tecnológico de Monterrey\n",
    "Prof Gretell Barceló Alonso\n",
    "### Semana 5 Preprocesamiento de datos\n",
    "- **NOMBRE**: ------------------------\n",
    "- **MATRÍCULA**: ---------------------"
   ]
  },
  {
   "cell_type": "markdown",
   "id": "fd475502",
   "metadata": {},
   "source": [
    "### 1. Cargar los datos\n",
    "Para trabajar con los datos en Google Colab, primero necesitas subir el archivo `responses.csv`. Puedes hacerlo usando el ícono de carpeta a la izquierda. Luego selecciona **Upload** y sube el archivo desde tu computadora."
   ]
  },
  {
   "cell_type": "code",
   "execution_count": null,
   "id": "3d15b7b3",
   "metadata": {},
   "outputs": [],
   "source": [
    "import pandas as pd\n",
    "import matplotlib.pyplot as plt\n",
    "import numpy as np\n",
    "import seaborn as sns\n",
    "\n",
    "# Cargar el archivo una vez subido en Colab\n",
    "response_df = pd.read_csv('responses.csv')\n",
    "response_df.head()"
   ]
  },
  {
   "cell_type": "markdown",
   "id": "dbc2cbcf",
   "metadata": {},
   "source": [
    "### 2. Determina cuántas variables numéricas y cuántas de texto posee el conjunto de datos\n",
    "Con el método `info()` se puede determinar esta información."
   ]
  },
  {
   "cell_type": "code",
   "execution_count": null,
   "id": "643ff4d5",
   "metadata": {},
   "outputs": [],
   "source": [
    "response_df.info()"
   ]
  },
  {
   "cell_type": "markdown",
   "id": "870221c4",
   "metadata": {},
   "source": [
    "### 3. Estadísticas descriptivas separadas por tipo de datos\n",
    "Utiliza el método `describe()` del dataframe, para obtener el resumen de las estadísticas descriptivas por tipo de datos."
   ]
  },
  {
   "cell_type": "code",
   "execution_count": null,
   "id": "18c9fd01",
   "metadata": {},
   "outputs": [],
   "source": [
    "response_df.describe()"
   ]
  },
  {
   "cell_type": "code",
   "execution_count": null,
   "id": "3f45b759",
   "metadata": {},
   "outputs": [],
   "source": [
    "response_df.describe(include=['O'])"
   ]
  },
  {
   "cell_type": "markdown",
   "id": "dbdff0f5",
   "metadata": {},
   "source": [
    "### 4. Clasifica la variable Weight según su escala de medición\n",
    "En función de la escala de la variable `Weight`, elige el gráfico adecuado (histograma / barras) y justifica tu elección."
   ]
  },
  {
   "cell_type": "code",
   "execution_count": null,
   "id": "b5d7f55e",
   "metadata": {},
   "outputs": [],
   "source": [
    "plt.figure(figsize=(8,6))\n",
    "sns.histplot(response_df['Weight'].dropna(), kde=True)\n",
    "plt.title('Distribución de la variable Weight')\n",
    "plt.show()"
   ]
  },
  {
   "cell_type": "markdown",
   "id": "65d67b0e",
   "metadata": {},
   "source": [
    "### 5. Clasifica la distribución del peso según su asimetría\n",
    "Utiliza la función `skew` de la librería `scipy.stats` para calcular la asimetría de la variable `Weight` y clasifica la distribución."
   ]
  },
  {
   "cell_type": "code",
   "execution_count": null,
   "id": "007bd429",
   "metadata": {},
   "outputs": [],
   "source": [
    "from scipy.stats import skew\n",
    "weight_skewness = skew(response_df['Weight'].dropna())\n",
    "print(f'El valor de la asimetría es: {weight_skewness}')\n",
    "if weight_skewness > 0:\n",
    "    print('La distribución está sesgada a la derecha.')\n",
    "elif weight_skewness < 0:\n",
    "    print('La distribución está sesgada a la izquierda.')\n",
    "else:\n",
    "    print('La distribución es simétrica.')"
   ]
  },
  {
   "cell_type": "markdown",
   "id": "75432c8e",
   "metadata": {},
   "source": [
    "### 6. ¿Cuántos valores faltantes tiene la variable Weight? ¿Qué porcentaje representan?\n",
    "Obtén el número de valores faltantes de la variable `Weight` y calcula el porcentaje que representan del total de la columna."
   ]
  },
  {
   "cell_type": "code",
   "execution_count": null,
   "id": "811b5101",
   "metadata": {},
   "outputs": [],
   "source": [
    "missing_values = response_df['Weight'].isnull().sum()\n",
    "total_values = len(response_df['Weight'])\n",
    "missing_percentage = (missing_values / total_values) * 100\n",
    "print(f'Valores faltantes: {missing_values} ({missing_percentage:.2f}%)')"
   ]
  },
  {
   "cell_type": "markdown",
   "id": "6aca258d",
   "metadata": {},
   "source": [
    "### 7. Dependencia de los valores faltantes de Weight\n",
    "Analiza si los valores faltantes de la variable `Weight` tienen relación con otras variables, como `Age`, `Number of siblings`, `Gender`, y `Education`."
   ]
  },
  {
   "cell_type": "code",
   "execution_count": null,
   "id": "6953b811",
   "metadata": {},
   "outputs": [],
   "source": [
    "with_missing_weight = response_df[response_df['Weight'].isnull()]\n",
    "without_missing_weight = response_df[response_df['Weight'].notnull()]\n",
    "from scipy.stats import ttest_ind\n",
    "stat, p_value = ttest_ind(with_missing_weight['Age'].dropna(), without_missing_weight['Age'].dropna())\n",
    "print(f'p-valor de la prueba t: {p_value}')\n",
    "if p_value < 0.05:\n",
    "    print('Hay una diferencia significativa en la edad entre los grupos con y sin valores faltantes en Weight.')\n",
    "else:\n",
    "    print('No hay una diferencia significativa en la edad entre los grupos.')"
   ]
  },
  {
   "cell_type": "markdown",
   "id": "32de1dce",
   "metadata": {},
   "source": [
    "### 8. Imputación de valores faltantes\n",
    "Utiliza una medida de tendencia central para imputar los valores faltantes de `Weight`. ¿Cuál es recomendable y por qué?"
   ]
  },
  {
   "cell_type": "code",
   "execution_count": null,
   "id": "53028c35",
   "metadata": {},
   "outputs": [],
   "source": [
    "median_weight = response_df['Weight'].median()\n",
    "response_df['Weight'].fillna(median_weight, inplace=True)\n",
    "print(f'Se han imputado los valores faltantes de Weight con la mediana: {median_weight}')"
   ]
  },
  {
   "cell_type": "markdown",
   "id": "75311410",
   "metadata": {},
   "source": [
    "### 9. Valores atípicos de la variable Weight\n",
    "Confirma si existen valores atípicos en la variable `Weight` utilizando un gráfico de boxplot. Luego, almacénalos en un dataframe independiente y elimínalos del conjunto original."
   ]
  },
  {
   "cell_type": "code",
   "execution_count": null,
   "id": "680835dd",
   "metadata": {},
   "outputs": [],
   "source": [
    "plt.figure(figsize=(8,6))\n",
    "sns.boxplot(data=response_df, x='Weight')\n",
    "plt.title('Boxplot de la variable Weight')\n",
    "plt.show()"
   ]
  },
  {
   "cell_type": "markdown",
   "id": "76c812c4",
   "metadata": {},
   "source": [
    "### 10. Visualizar la distribución del BMI según las variables categóricas"
   ]
  },
  {
   "cell_type": "code",
   "execution_count": null,
   "id": "d046765b",
   "metadata": {},
   "outputs": [],
   "source": [
    "# Calcular el BMI (Weight en kg, Height en metros)\n",
    "response_df['Height_m'] = response_df['Height'] / 100\n",
    "response_df['BMI'] = response_df['Weight'] / response_df['Height_m']**2\n",
    "categorical_vars = ['Gender', 'Education']\n",
    "plt.figure(figsize=(15, 8))\n",
    "for i, var in enumerate(categorical_vars, 1):\n",
    "    plt.subplot(1, 2, i)\n",
    "    sns.boxplot(x=var, y='BMI', data=response_df)\n",
    "    plt.title(f'Boxplot del BMI por {var}')\n",
    "plt.tight_layout()\n",
    "plt.show()"
   ]
  }
 ],
 "metadata": {},
 "nbformat": 4,
 "nbformat_minor": 5
}
